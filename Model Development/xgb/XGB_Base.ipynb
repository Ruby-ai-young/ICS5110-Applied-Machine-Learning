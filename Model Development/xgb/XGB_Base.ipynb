{
 "cells": [
  {
   "cell_type": "code",
   "execution_count": 1,
   "metadata": {},
   "outputs": [],
   "source": [
    "# Import the necessary libraries:\n",
    "import warnings\n",
    "from sklearn.exceptions import UndefinedMetricWarning\n",
    "\n",
    "warnings.filterwarnings(\"ignore\", category = UndefinedMetricWarning)\n",
    "\n",
    "import pandas as pd\n",
    "import seaborn as sns\n",
    "from sklearn.preprocessing import LabelEncoder\n",
    "from sklearn.metrics import confusion_matrix, accuracy_score, precision_score, recall_score, f1_score, classification_report, roc_curve, auc, roc_auc_score\n",
    "import matplotlib.pyplot as plt\n",
    "import numpy as np\n",
    "from sklearn.decomposition import PCA\n",
    "from sklearn.model_selection import GridSearchCV, train_test_split\n",
    "from sklearn.feature_selection import SequentialFeatureSelector\n",
    "from xgboost import XGBClassifier\n",
    "from joblib import dump, load"
   ]
  },
  {
   "cell_type": "code",
   "execution_count": 2,
   "metadata": {},
   "outputs": [],
   "source": [
    "def import_dataset(file_path):\n",
    "    \n",
    "    #Import the dataset from a CSV file.\n",
    "\n",
    "    print(\"--------------- Importing Dataset ---------------\\n\")\n",
    "    try:\n",
    "        dataset = pd.read_csv(file_path)\n",
    "        print(\"Successfully Imported 'csv' file!\\n\")\n",
    "        return dataset\n",
    "    \n",
    "    except Exception as e:\n",
    "        print(f\"Error occurred while importing dataset: {e}\")    \n",
    "        return None"
   ]
  },
  {
   "cell_type": "code",
   "execution_count": 3,
   "metadata": {},
   "outputs": [
    {
     "name": "stdout",
     "output_type": "stream",
     "text": [
      "--------------- Importing Dataset ---------------\n",
      "\n",
      "Successfully Imported 'csv' file!\n",
      "\n"
     ]
    }
   ],
   "source": [
    "data = import_dataset('sampled_file_100k.csv')"
   ]
  },
  {
   "cell_type": "code",
   "execution_count": 4,
   "metadata": {},
   "outputs": [],
   "source": [
    "def convert_jail_to_binary(dataset):\n",
    "\n",
    "    #Convert the 'jail' column of the dataset into a binary format.\n",
    "\n",
    "    print(\"------------- Converting 'jail' to binary -------------\\n\")\n",
    "\n",
    "    if 'jail' not in dataset.columns:\n",
    "        print(\"Error: 'jail' column not found in the dataset.\")\n",
    "        return dataset\n",
    "\n",
    "    # Convert the 'jail' column to binary\n",
    "    # Any non-zero value in 'jail' is set to 1, and zero remains 0\n",
    "    dataset['jail'] = dataset['jail'].apply(lambda x: 1 if x > 0 else 0)\n",
    "\n",
    "    print(\"Successfull :)\")\n",
    "    return dataset"
   ]
  },
  {
   "cell_type": "code",
   "execution_count": 5,
   "metadata": {},
   "outputs": [
    {
     "name": "stdout",
     "output_type": "stream",
     "text": [
      "------------- Converting 'jail' to binary -------------\n",
      "\n",
      "Successfull :)\n"
     ]
    }
   ],
   "source": [
    "data = convert_jail_to_binary(data)"
   ]
  },
  {
   "cell_type": "code",
   "execution_count": 6,
   "metadata": {},
   "outputs": [],
   "source": [
    "def preprocess_data(dataset, target_column, feature_columns=None):\n",
    "    \n",
    "    #Preprocess the dataset by defining the target and features.\n",
    "    print(\"--------------- Preprocessing ---------------\\n\")\n",
    "\n",
    "    # If feature_columns is not provided, use all columns except the target\n",
    "    if feature_columns is None:\n",
    "        feature_columns = [col for col in dataset.columns if col != target_column]\n",
    "\n",
    "    # Separate the features (X) and the target (y)\n",
    "    X = dataset[feature_columns]\n",
    "    y = dataset[target_column]\n",
    "  \n",
    "    # Displaying information about the features and target\n",
    "    print(f\"Total number of features (X): {len(feature_columns)}\")\n",
    "    print(f\"Feature names: {feature_columns}\")\n",
    "    print(f\"\\nTarget variable (y): {target_column}\")\n",
    "\n",
    "    return X, y"
   ]
  },
  {
   "cell_type": "code",
   "execution_count": 7,
   "metadata": {},
   "outputs": [
    {
     "name": "stdout",
     "output_type": "stream",
     "text": [
      "--------------- Preprocessing ---------------\n",
      "\n",
      "Total number of features (X): 18\n",
      "Feature names: ['county', 'new_id', 'sex', 'race', 'judge_id', 'case_type', 'offence_category', 'age_offense', 'age_judge', 'prior_felony', 'prior_misdemeanor', 'prior_criminal_traffic', 'highest_severity', 'release', 'probation', 'med_house_income', 'year', 'violent_crime']\n",
      "\n",
      "Target variable (y): jail\n"
     ]
    }
   ],
   "source": [
    "# Preprocess the data\n",
    "target_column = 'jail'  # This is the column we want to predict\n",
    "X_features, y_target_variable = preprocess_data(data, target_column)"
   ]
  },
  {
   "cell_type": "code",
   "execution_count": 8,
   "metadata": {},
   "outputs": [],
   "source": [
    "def encoding(X_features):\n",
    "\n",
    "    # Encode categorical variables using LabelEncoder\n",
    "    print(\"--------------- Encoding Categorical Variables ---------------\\n\")\n",
    "\n",
    "    label_encoder = LabelEncoder()\n",
    "    X_encoded = X_features.copy()\n",
    "\n",
    "    for col in X_features.columns:\n",
    "    \n",
    "        if X_features[col].dtype == 'object':\n",
    "            X_encoded[col] = label_encoder.fit_transform(X_features[col])\n",
    "\n",
    "    print(\"Encoding Complete!\")\n",
    "    return X_encoded"
   ]
  },
  {
   "cell_type": "code",
   "execution_count": 9,
   "metadata": {},
   "outputs": [
    {
     "name": "stdout",
     "output_type": "stream",
     "text": [
      "--------------- Encoding Categorical Variables ---------------\n",
      "\n",
      "Encoding Complete!\n"
     ]
    }
   ],
   "source": [
    "X_encoded = encoding(X_features)"
   ]
  },
  {
   "cell_type": "code",
   "execution_count": 10,
   "metadata": {},
   "outputs": [],
   "source": [
    "def data_split(X, y):\n",
    "\n",
    "    print(\"\\n--------------- Dataset Split ---------------\\n\")\n",
    "    \n",
    "    #Split the data into training and testing sets.\n",
    "    X_train, X_test, y_train, y_test = train_test_split(X, y, test_size = 0.2, random_state = 42)\n",
    "\n",
    "    # Output the length of the training and testing sets\n",
    "    print(f\"Total length of dataset: {len(X)}\")\n",
    "    print(f\"\\nLength of Training set: {len(X_train)}\")\n",
    "    print(f\"Length of Testing set: {len(X_test)}\")\n",
    "\n",
    "    return X_train, X_test, y_train, y_test"
   ]
  },
  {
   "cell_type": "code",
   "execution_count": 11,
   "metadata": {},
   "outputs": [
    {
     "name": "stdout",
     "output_type": "stream",
     "text": [
      "\n",
      "--------------- Dataset Split ---------------\n",
      "\n",
      "Total length of dataset: 100000\n",
      "\n",
      "Length of Training set: 80000\n",
      "Length of Testing set: 20000\n"
     ]
    }
   ],
   "source": [
    "X_train, X_test, y_train, y_test = data_split(X_encoded, y_target_variable)"
   ]
  },
  {
   "cell_type": "code",
   "execution_count": 12,
   "metadata": {},
   "outputs": [],
   "source": [
    "def report(test_y, prediction_test):\n",
    "    \n",
    "    from sklearn.metrics import classification_report\n",
    "    \n",
    "    rep = classification_report(test_y, prediction_test)\n",
    "    print(rep, \"\\n\")"
   ]
  },
  {
   "cell_type": "code",
   "execution_count": 13,
   "metadata": {},
   "outputs": [],
   "source": [
    "def conf_matrix(y_test_encoded, y_test_pred):\n",
    "\n",
    "    cnfm = confusion_matrix(y_test_encoded, y_test_pred)\n",
    "    \n",
    "    sns.heatmap(cnfm, annot = True, fmt = 'd')\n",
    "    plt.show()"
   ]
  },
  {
   "cell_type": "code",
   "execution_count": 14,
   "metadata": {},
   "outputs": [],
   "source": [
    "def xgb_model(X_train, X_test, y_train, y_test):\n",
    "\n",
    "    print(\"--------------- Training an XGB Classifier ---------------\\n\")\n",
    "    print(\"...\\n\")\n",
    "\n",
    "    # Encode labels\n",
    "    label_encoder = LabelEncoder()\n",
    "    y_train_encoded = label_encoder.fit_transform(y_train)\n",
    "    y_test_encoded = label_encoder.transform(y_test)\n",
    "\n",
    "    # Create and train the XGBoost classifier\n",
    "    classifier = XGBClassifier()\n",
    "    classifier.fit(X_train, y_train_encoded)\n",
    "\n",
    "    # Evaluate the classifier\n",
    "    y_test_pred = classifier.predict(X_test)\n",
    "    y_test_pred_proba = classifier.predict_proba(X_test)[:, 1]  \n",
    "\n",
    "    # --------------- EVALUATION --------------- #\n",
    "\n",
    "    accuracy = accuracy_score(y_test_encoded, y_test_pred)\n",
    "    f1 = f1_score(y_test_encoded, y_test_pred)\n",
    "    precision = precision_score(y_test_encoded, y_test_pred)\n",
    "    recall = recall_score(y_test_encoded, y_test_pred)\n",
    "    roc_auc = roc_auc_score(y_test_encoded, y_test_pred_proba)\n",
    "\n",
    "\n",
    "    print(\"--------------- Classifier Evaluation ---------------\\n\")\n",
    "\n",
    "    print(\"1. Accuracy, F1-Score, Precision, Recall:\")\n",
    "\n",
    "    print(f\"\\nAccuracy: {accuracy}\")\n",
    "    print(f\"F1 Score: {f1}\")\n",
    "    print(f\"Precision: {precision}\")\n",
    "    print(f\"Recall: {recall}\")\n",
    "\n",
    "    print(\"\\n2. Confusion Matrix:\")\n",
    "    # Confusion matrix:\n",
    "    conf_matrix(y_test_encoded, y_test_pred)\n",
    "\n",
    "    print(\"3. Classification Report:\\n\")\n",
    "    # Report:\n",
    "    report(y_test_encoded, y_test_pred)\n",
    "\n",
    "    print(\"4. ROC Curve & AUC Scores:\\n\")\n",
    "    # Plot ROC Curve\n",
    "\n",
    "    fpr, tpr, _ = roc_curve(y_test_encoded, y_test_pred_proba)\n",
    "    plt.plot(fpr, tpr, color='blue', label=f'ROC curve (area = {roc_auc:.2f})')\n",
    "    plt.plot([0, 1], [0, 1], color='darkgrey', linestyle='--')\n",
    "    plt.xlabel('False Positive Rate')\n",
    "    plt.ylabel('True Positive Rate')\n",
    "    plt.title('Receiver Operating Characteristic (ROC) Curve')\n",
    "    plt.legend(loc=\"lower right\")\n",
    "    plt.show()\n",
    "\n",
    "    print(f\"AUC Score: {roc_auc}\\n\")\n",
    "\n",
    "    return classifier"
   ]
  },
  {
   "cell_type": "code",
   "execution_count": 15,
   "metadata": {},
   "outputs": [
    {
     "name": "stdout",
     "output_type": "stream",
     "text": [
      "--------------- Training an XGB Classifier ---------------\n",
      "\n",
      "...\n",
      "\n",
      "--------------- Classifier Evaluation ---------------\n",
      "\n",
      "1. Accuracy, F1-Score, Precision, Recall:\n",
      "\n",
      "Accuracy: 0.97975\n",
      "F1 Score: 0.9745874380372718\n",
      "Precision: 0.9736710130391174\n",
      "Recall: 0.9755055897500314\n",
      "\n",
      "2. Confusion Matrix:\n"
     ]
    },
    {
     "data": {
      "image/png": "[encoded data removed]",
      "text/plain": [
       "<Figure size 640x480 with 2 Axes>"
      ]
     },
     "metadata": {},
     "output_type": "display_data"
    },
    {
     "name": "stdout",
     "output_type": "stream",
     "text": [
      "3. Classification Report:\n",
      "\n",
      "              precision    recall  f1-score   support\n",
      "\n",
      "           0       0.98      0.98      0.98     12039\n",
      "           1       0.97      0.98      0.97      7961\n",
      "\n",
      "    accuracy                           0.98     20000\n",
      "   macro avg       0.98      0.98      0.98     20000\n",
      "weighted avg       0.98      0.98      0.98     20000\n",
      " \n",
      "\n",
      "4. ROC Curve & AUC Scores:\n",
      "\n"
     ]
    },
    {
     "data": {
      "image/png": "[encoded data removed]",
      "text/plain": [
       "<Figure size 640x480 with 1 Axes>"
      ]
     },
     "metadata": {},
     "output_type": "display_data"
    },
    {
     "name": "stdout",
     "output_type": "stream",
     "text": [
      "AUC Score: 0.9978820821193491\n",
      "\n"
     ]
    }
   ],
   "source": [
    "classifier = xgb_model(X_train, X_test, y_train, y_test)"
   ]
  },
  {
   "cell_type": "code",
   "execution_count": 16,
   "metadata": {},
   "outputs": [
    {
     "data": {
      "text/plain": [
       "['xgb_model_base.joblib']"
      ]
     },
     "execution_count": 16,
     "metadata": {},
     "output_type": "execute_result"
    }
   ],
   "source": [
    "dump(classifier, 'xgb_model_base.joblib')"
   ]
  }
 ],
 "metadata": {
  "kernelspec": {
   "display_name": "base",
   "language": "python",
   "name": "python3"
  },
  "language_info": {
   "codemirror_mode": {
    "name": "ipython",
    "version": 3
   },
   "file_extension": ".py",
   "mimetype": "text/x-python",
   "name": "python",
   "nbconvert_exporter": "python",
   "pygments_lexer": "ipython3",
   "version": "3.10.9"
  }
 },
 "nbformat": 4,
 "nbformat_minor": 2
}
