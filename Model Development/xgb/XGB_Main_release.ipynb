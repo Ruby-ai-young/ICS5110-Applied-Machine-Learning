{
 "cells": [
  {
   "cell_type": "code",
   "execution_count": 1,
   "metadata": {},
   "outputs": [],
   "source": [
    "# Import the necessary libraries:\n",
    "import warnings\n",
    "from sklearn.exceptions import UndefinedMetricWarning\n",
    "\n",
    "warnings.filterwarnings(\"ignore\", category = UndefinedMetricWarning)\n",
    "\n",
    "import pandas as pd\n",
    "import seaborn as sns\n",
    "from sklearn.preprocessing import LabelEncoder\n",
    "from sklearn.metrics import confusion_matrix, accuracy_score, precision_score, recall_score, f1_score, classification_report, roc_curve, auc\n",
    "import matplotlib.pyplot as plt\n",
    "import numpy as np\n",
    "from sklearn.decomposition import PCA\n",
    "from sklearn.model_selection import GridSearchCV, train_test_split\n",
    "from sklearn.feature_selection import SequentialFeatureSelector\n",
    "from xgboost import XGBClassifier\n",
    "from joblib import dump, load"
   ]
  },
  {
   "cell_type": "code",
   "execution_count": 2,
   "metadata": {},
   "outputs": [],
   "source": [
    "def import_dataset(file_path):\n",
    "    \n",
    "    #Import the dataset from a CSV file.\n",
    "\n",
    "    print(\"--------------- Importing Dataset ---------------\\n\")\n",
    "    try:\n",
    "        dataset = pd.read_csv(file_path)\n",
    "        print(\"Successfully Imported 'csv' file!\\n\")\n",
    "        return dataset\n",
    "    \n",
    "    except Exception as e:\n",
    "        print(f\"Error occurred while importing dataset: {e}\")    \n",
    "        return None"
   ]
  },
  {
   "cell_type": "code",
   "execution_count": 3,
   "metadata": {},
   "outputs": [
    {
     "name": "stdout",
     "output_type": "stream",
     "text": [
      "--------------- Importing Dataset ---------------\n",
      "\n",
      "Successfully Imported 'csv' file!\n",
      "\n"
     ]
    }
   ],
   "source": [
    "data = import_dataset('sampled_file_100k.csv')"
   ]
  },
  {
   "cell_type": "code",
   "execution_count": 4,
   "metadata": {},
   "outputs": [],
   "source": [
    "def convert_jail_to_binary(dataset):\n",
    "\n",
    "    #Convert the 'jail' column of the dataset into a binary format.\n",
    "\n",
    "    print(\"------------- Converting 'jail' to binary -------------\\n\")\n",
    "\n",
    "    if 'jail' not in dataset.columns:\n",
    "        print(\"Error: 'jail' column not found in the dataset.\")\n",
    "        return dataset\n",
    "\n",
    "    # Convert the 'jail' column to binary\n",
    "    # Any non-zero value in 'jail' is set to 1, and zero remains 0\n",
    "    dataset['jail'] = dataset['jail'].apply(lambda x: 1 if x > 0 else 0)\n",
    "\n",
    "    print(\"Successfull :)\")\n",
    "    return dataset"
   ]
  },
  {
   "cell_type": "code",
   "execution_count": 5,
   "metadata": {},
   "outputs": [
    {
     "name": "stdout",
     "output_type": "stream",
     "text": [
      "------------- Converting 'jail' to binary -------------\n",
      "\n",
      "Successfull :)\n"
     ]
    }
   ],
   "source": [
    "data = convert_jail_to_binary(data)"
   ]
  },
  {
   "cell_type": "code",
   "execution_count": 6,
   "metadata": {},
   "outputs": [],
   "source": [
    "def preprocess_data(dataset, target_column, feature_columns=None):\n",
    "    \n",
    "    #Preprocess the dataset by defining the target and features.\n",
    "    print(\"--------------- Preprocessing ---------------\\n\")\n",
    "\n",
    "    # If feature_columns is not provided, use all columns except the target\n",
    "    if feature_columns is None:\n",
    "        feature_columns = [col for col in dataset.columns if col != target_column]\n",
    "\n",
    "    # Separate the features (X) and the target (y)\n",
    "    X = dataset[feature_columns]\n",
    "    y = dataset[target_column]\n",
    "  \n",
    "    # Displaying information about the features and target\n",
    "    print(f\"Total number of features (X): {len(feature_columns)}\")\n",
    "    print(f\"Feature names: {feature_columns}\")\n",
    "    print(f\"\\nTarget variable (y): {target_column}\")\n",
    "\n",
    "    return X, y"
   ]
  },
  {
   "cell_type": "code",
   "execution_count": 7,
   "metadata": {},
   "outputs": [
    {
     "name": "stdout",
     "output_type": "stream",
     "text": [
      "--------------- Preprocessing ---------------\n",
      "\n",
      "Total number of features (X): 18\n",
      "Feature names: ['county', 'new_id', 'sex', 'race', 'judge_id', 'case_type', 'offence_category', 'age_offense', 'age_judge', 'prior_felony', 'prior_misdemeanor', 'prior_criminal_traffic', 'highest_severity', 'release', 'probation', 'med_house_income', 'year', 'violent_crime']\n",
      "\n",
      "Target variable (y): jail\n"
     ]
    }
   ],
   "source": [
    "# Preprocess the data\n",
    "target_column = 'jail'  # This is the column we want to predict\n",
    "X_features, y_target_variable = preprocess_data(data, target_column)"
   ]
  },
  {
   "cell_type": "code",
   "execution_count": 8,
   "metadata": {},
   "outputs": [],
   "source": [
    "def encoding(X_features):\n",
    "\n",
    "    # Encode categorical variables using LabelEncoder\n",
    "    print(\"--------------- Encoding Categorical Variables ---------------\\n\")\n",
    "\n",
    "    label_encoder = LabelEncoder()\n",
    "    X_encoded = X_features.copy()\n",
    "\n",
    "    for col in X_features.columns:\n",
    "    \n",
    "        if X_features[col].dtype == 'object':\n",
    "            X_encoded[col] = label_encoder.fit_transform(X_features[col])\n",
    "\n",
    "    print(\"Encoding Complete!\")\n",
    "    return X_encoded"
   ]
  },
  {
   "cell_type": "code",
   "execution_count": 9,
   "metadata": {},
   "outputs": [
    {
     "name": "stdout",
     "output_type": "stream",
     "text": [
      "--------------- Encoding Categorical Variables ---------------\n",
      "\n",
      "Encoding Complete!\n"
     ]
    }
   ],
   "source": [
    "X_encoded = encoding(X_features)"
   ]
  },
  {
   "cell_type": "code",
   "execution_count": 10,
   "metadata": {},
   "outputs": [],
   "source": [
    "def data_split(X, y):\n",
    "\n",
    "    print(\"\\n--------------- Dataset Split ---------------\\n\")\n",
    "    \n",
    "    #Split the data into training and testing sets.\n",
    "    X_train, X_test, y_train, y_test = train_test_split(X, y, test_size = 0.2, random_state = 42)\n",
    "\n",
    "    # Output the length of the training and testing sets\n",
    "    print(f\"Total length of dataset: {len(X)}\")\n",
    "    print(f\"\\nLength of Training set: {len(X_train)}\")\n",
    "    print(f\"Length of Testing set: {len(X_test)}\")\n",
    "\n",
    "    return X_train, X_test, y_train, y_test"
   ]
  },
  {
   "cell_type": "code",
   "execution_count": 11,
   "metadata": {},
   "outputs": [
    {
     "name": "stdout",
     "output_type": "stream",
     "text": [
      "\n",
      "--------------- Dataset Split ---------------\n",
      "\n",
      "Total length of dataset: 100000\n",
      "\n",
      "Length of Training set: 80000\n",
      "Length of Testing set: 20000\n"
     ]
    }
   ],
   "source": [
    "X_train, X_test, y_train, y_test = data_split(X_encoded, y_target_variable)"
   ]
  },
  {
   "cell_type": "markdown",
   "metadata": {},
   "source": [
    "##### Evaluation Metrics:"
   ]
  },
  {
   "cell_type": "code",
   "execution_count": 12,
   "metadata": {},
   "outputs": [],
   "source": [
    "def main_metrics(classifier, X_train_selected, y_train_encoded, X_test_selected, y_test_encoded):\n",
    "\n",
    "    # Evaluate the classifier on the training data\n",
    "    y_train_pred = classifier.predict(X_train_selected)\n",
    "    train_accuracy = accuracy_score(y_train_encoded, y_train_pred)\n",
    "    print(\"\\nTraining Accuracy:\", train_accuracy)\n",
    "    print(\"Training Precision:\", precision_score(y_train_encoded, y_train_pred, average = 'weighted'))\n",
    "    print(\"Training Recall:\", recall_score(y_train_encoded, y_train_pred, average = 'weighted'))\n",
    "    print(\"Training F1-score:\", f1_score(y_train_encoded, y_train_pred, average = 'weighted'))\n",
    "\n",
    "    # Evaluate the classifier on the testing data\n",
    "    y_test_pred = classifier.predict(X_test_selected)\n",
    "    test_accuracy = accuracy_score(y_test_encoded, y_test_pred)\n",
    "    print(\"\\nTesting Accuracy:\", test_accuracy)\n",
    "    print(\"Testing Precision:\", precision_score(y_test_encoded, y_test_pred, average = 'weighted'))\n",
    "    print(\"Testing Recall:\", recall_score(y_test_encoded, y_test_pred, average = 'weighted'))\n",
    "    print(\"Testing F1-score:\", f1_score(y_test_encoded, y_test_pred, average = 'weighted'))\n",
    "\n",
    "    return y_test_pred"
   ]
  },
  {
   "cell_type": "code",
   "execution_count": 13,
   "metadata": {},
   "outputs": [],
   "source": [
    "def report(test_y, prediction_test):\n",
    "    \n",
    "    from sklearn.metrics import classification_report\n",
    "    \n",
    "    rep = classification_report(test_y, prediction_test)\n",
    "    print(rep, \"\\n\")"
   ]
  },
  {
   "cell_type": "code",
   "execution_count": 14,
   "metadata": {},
   "outputs": [],
   "source": [
    "def standard_deviation(training_accuracy_values, accuracy_values):\n",
    "\n",
    "    train_std = np.std(training_accuracy_values)\n",
    "    test_std = np.std(accuracy_values)\n",
    "    std_difference = (train_std - test_std)\n",
    "\n",
    "    print(\"\\nTraining Standard Deviation:\", train_std)\n",
    "    print(\"Testing Standard Deviation:\", test_std)\n",
    "    print(\"Difference between Training and Testing Standard Deviation:\", std_difference)"
   ]
  },
  {
   "cell_type": "code",
   "execution_count": 15,
   "metadata": {},
   "outputs": [],
   "source": [
    "def conf_matrix(y_test_encoded, y_test_pred):\n",
    "\n",
    "    cnfm = confusion_matrix(y_test_encoded, y_test_pred)\n",
    "    \n",
    "    sns.heatmap(cnfm, annot = True, fmt = 'd')\n",
    "    plt.show()"
   ]
  },
  {
   "cell_type": "code",
   "execution_count": 16,
   "metadata": {},
   "outputs": [],
   "source": [
    "def plot_roc_curve(y_test_encoded, y_pred_probabilities):\n",
    "\n",
    "    # Calculate the ROC curve\n",
    "    fpr, tpr, thresholds = roc_curve(y_test_encoded, y_pred_probabilities, pos_label = 1)\n",
    "\n",
    "    # Calculate the AUC\n",
    "    roc_auc = auc(fpr, tpr)\n",
    "\n",
    "    # Plotting the ROC curve\n",
    "    plt.figure()\n",
    "    plt.plot(fpr, tpr, color='darkorange', lw=2, label=f'ROC curve (area = {roc_auc:.2f})')\n",
    "    plt.plot([0, 1], [0, 1], color='navy', lw=2, linestyle='--')\n",
    "    plt.xlim([0.0, 1.0])\n",
    "    plt.ylim([0.0, 1.05])\n",
    "    plt.xlabel('False Positive Rate')\n",
    "    plt.ylabel('True Positive Rate')\n",
    "    plt.title('Receiver Operating Characteristic')\n",
    "    plt.legend(loc=\"lower right\")\n",
    "    plt.show()\n",
    "\n",
    "    print(f\"AUC Score: {roc_auc:.2f}\")"
   ]
  },
  {
   "cell_type": "markdown",
   "metadata": {},
   "source": [
    "##### Main Model:"
   ]
  },
  {
   "cell_type": "code",
   "execution_count": 17,
   "metadata": {},
   "outputs": [],
   "source": [
    "def xgb_model(X_train, X_test, y_train, y_test):\n",
    "\n",
    "    print(\"--------------- Training an XGB Classifier ---------------\\n\")\n",
    "    print(\"...\\n\")\n",
    "\n",
    "    max_num_features = X_train.shape[1]  # Maximum number of features\n",
    "    max_pca_components = min(X_train.shape[0], X_train.shape[1])\n",
    "    best_accuracy = 0.0\n",
    "    best_num_features = 0\n",
    "    best_pca = None\n",
    "    best_classifier = None\n",
    "    accuracy_values = []\n",
    "    training_accuracy_values = []  # List to store training accuracy during iterations\n",
    "\n",
    "    label_encoder = LabelEncoder()\n",
    "    y_train_encoded = label_encoder.fit_transform(y_train)\n",
    "    y_test_encoded = label_encoder.transform(y_test)\n",
    "    \n",
    "    for num_features in range(1, max_pca_components + 1):\n",
    "\n",
    "        # Apply PCA with the current number of features\n",
    "        pca = PCA(n_components = num_features)\n",
    "        #pca = PCA(n_components = 10)\n",
    "\n",
    "        X_train_pca = pca.fit_transform(X_train)\n",
    "        X_test_pca = pca.transform(X_test)\n",
    "\n",
    "        param_grid_XGB = {\n",
    "            'n_estimators': [100, 300],\n",
    "            'learning_rate': [0.01, 0.1],\n",
    "            'max_depth': [3, 5],\n",
    "            'subsample': [0.6, 1.0],\n",
    "            'colsample_bytree': [0.8, 1.0],\n",
    "            'gamma': [0.1, 0.3],\n",
    "            'lambda': [0.1, 1.0],\n",
    "        }\n",
    "\n",
    "        # Create the XGBoost classifier\n",
    "        classifier = XGBClassifier()\n",
    "\n",
    "        # Perform grid search to find the best parameters\n",
    "        grid_search = GridSearchCV(classifier, param_grid_XGB, cv = 5)\n",
    "        grid_search.fit(X_train_pca, y_train_encoded)\n",
    "\n",
    "        # Retrieve the best classifier from grid search\n",
    "        classifier = grid_search.best_estimator_\n",
    "\n",
    "        # Evaluate the classifier on the PCA-transformed testing data\n",
    "        y_test_pred = classifier.predict(X_test_pca)\n",
    "        accuracy = accuracy_score(y_test_encoded, y_test_pred)\n",
    "        accuracy_values.append(accuracy)\n",
    "\n",
    "        # Evaluate the classifier on the PCA-transformed training data\n",
    "        y_train_pred = classifier.predict(X_train_pca)\n",
    "        train_accuracy = accuracy_score(y_train_encoded, y_train_pred)\n",
    "        training_accuracy_values.append(train_accuracy)\n",
    "\n",
    "        # Check if the current number of features gives better accuracy\n",
    "        if accuracy > best_accuracy:\n",
    "            best_accuracy = accuracy\n",
    "            best_num_features = num_features\n",
    "            best_pca = pca\n",
    "            best_classifier = classifier\n",
    "    \n",
    "    print(\"--------------- Performing Grid Search ---------------\\n\")\n",
    "\n",
    "    # Retrieve the best parameters chosen by the grid search\n",
    "    best_params = grid_search.best_params_\n",
    "    print(\"Chosen Parameters:\", best_params)\n",
    "    \n",
    "    # Retrieve the loadings of the principal components\n",
    "    loadings = best_pca.components_\n",
    "\n",
    "    # Retrieve the specific original features that contribute the most to each principal component\n",
    "    selected_features = []\n",
    "\n",
    "    for component_idx, component in enumerate(loadings):\n",
    "        top_feature_idx = np.argmax(np.abs(component))\n",
    "        top_feature_name = list(X_features.keys())[top_feature_idx]\n",
    "        selected_features.append(top_feature_name)\n",
    "\n",
    "    print(\"\\n--------------- Starting Dimensionality Reduction ---------------\")\n",
    "\n",
    "    print(\"\\nNumber of Features selected by PCA:\", best_num_features)\n",
    "    print(\"\\nFeatures selected by PCA:\")\n",
    "    for idx, feature in enumerate(selected_features):\n",
    "        print(f\"Feature {idx+1}: {feature}\")\n",
    "\n",
    "    # Apply PCA with the best number of features on the entire training data\n",
    "    pca = PCA(n_components = best_num_features)\n",
    "    #pca = PCA(n_components = 10)\n",
    "\n",
    "    X_train_pca = pca.fit_transform(X_train)\n",
    "    X_test_pca = pca.transform(X_test)\n",
    "\n",
    "    print(\"\\n--------------- Starting Feature Selection ---------------\")\n",
    "\n",
    "    # Apply forward feature selection on the PCA-transformed data\n",
    "    sfs = SequentialFeatureSelector(XGBClassifier(), n_features_to_select = 'auto', direction = 'forward')\n",
    "    X_train_selected = sfs.fit_transform(X_train_pca, y_train_encoded)\n",
    "    X_test_selected = sfs.transform(X_test_pca)\n",
    "\n",
    "    print(\"\\nNumber of Features selected by Forward Feature Selection:\", X_train_selected.shape[1], \"\\n\")\n",
    "\n",
    "    # Get the indices of selected features\n",
    "    selected_feature_indices = sfs.get_support(indices=True)\n",
    "\n",
    "    # Get the names of selected features\n",
    "    selected_feature_names = [list(X_features.keys())[idx] for idx in selected_feature_indices]\n",
    "\n",
    "    print(\"Features selected by Forward Feature Selection:\")\n",
    "    for idx, feature in enumerate(selected_feature_names):\n",
    "        print(f\"Feature {idx+1}: {feature}\")\n",
    "\n",
    "    print(\"\\n--------------- Commencing Classifier Training ---------------\\n\")\n",
    "\n",
    "    # Train the XGBoost classifier on the PCA-transformed training data\n",
    "    classifier = best_classifier\n",
    "    classifier.fit(X_train_selected, y_train_encoded)\n",
    "\n",
    "    print(\"Training Complete!\\n\")\n",
    "\n",
    "    # --------------- EVALUATION --------------- #\n",
    "\n",
    "    print(\"--------------- Classifier Evaluation ---------------\\n\")\n",
    "\n",
    "    print(\"1. Accuracy, F1-Score, Precision, Recall:\")\n",
    "    # Accuracy, F1-Score, Precision, Recall:\n",
    "    y_test_pred = main_metrics(classifier, X_train_selected, y_train_encoded, X_test_selected, y_test_encoded)\n",
    "\n",
    "    print(\"\\n2. Standard Deviation:\")\n",
    "    # Standard Deviation:\n",
    "    standard_deviation(training_accuracy_values, accuracy_values)\n",
    "\n",
    "    print(\"\\n3. Confusion Matrix:\")\n",
    "    # Confusion matrix:\n",
    "    conf_matrix(y_test_encoded, y_test_pred)\n",
    "\n",
    "    print(\"4. Classification Report:\\n\")\n",
    "    # Report:\n",
    "    report(y_test_encoded, y_test_pred)\n",
    "\n",
    "    print(\"5. ROC Curve & AUC Scores:\\n\")\n",
    "    y_test_pred_proba = classifier.predict_proba(X_test_selected)[:, 1]\n",
    "    plot_roc_curve(y_test_encoded, y_test_pred_proba)\n",
    "\n",
    "    return classifier\n"
   ]
  },
  {
   "cell_type": "code",
   "execution_count": 18,
   "metadata": {},
   "outputs": [
    {
     "name": "stdout",
     "output_type": "stream",
     "text": [
      "--------------- Training an XGB Classifier ---------------\n",
      "\n",
      "...\n",
      "\n",
      "--------------- Performing Grid Search ---------------\n",
      "\n",
      "Chosen Parameters: {'colsample_bytree': 1.0, 'gamma': 0.3, 'lambda': 1.0, 'learning_rate': 0.1, 'max_depth': 5, 'n_estimators': 300, 'subsample': 0.6}\n",
      "\n",
      "--------------- Starting Dimensionality Reduction ---------------\n",
      "\n",
      "Number of Features selected by PCA: 17\n",
      "\n",
      "Features selected by PCA:\n",
      "Feature 1: new_id\n",
      "Feature 2: med_house_income\n",
      "Feature 3: judge_id\n",
      "Feature 4: county\n",
      "Feature 5: offence_category\n",
      "Feature 6: age_judge\n",
      "Feature 7: year\n",
      "Feature 8: highest_severity\n",
      "Feature 9: prior_misdemeanor\n",
      "Feature 10: prior_felony\n",
      "Feature 11: prior_criminal_traffic\n",
      "Feature 12: race\n",
      "Feature 13: case_type\n",
      "Feature 14: age_offense\n",
      "Feature 15: release\n",
      "Feature 16: sex\n",
      "Feature 17: violent_crime\n",
      "\n",
      "--------------- Starting Feature Selection ---------------\n",
      "\n",
      "Number of Features selected by Forward Feature Selection: 8 \n",
      "\n",
      "Features selected by Forward Feature Selection:\n",
      "Feature 1: new_id\n",
      "Feature 2: sex\n",
      "Feature 3: race\n",
      "Feature 4: judge_id\n",
      "Feature 5: age_judge\n",
      "Feature 6: prior_felony\n",
      "Feature 7: highest_severity\n",
      "Feature 8: probation\n",
      "\n",
      "--------------- Commencing Classifier Training ---------------\n",
      "\n",
      "Training Complete!\n",
      "\n",
      "--------------- Classifier Evaluation ---------------\n",
      "\n",
      "1. Accuracy, F1-Score, Precision, Recall:\n",
      "\n",
      "Training Accuracy: 0.98175\n",
      "Training Precision: 0.9817795164827652\n",
      "Training Recall: 0.98175\n",
      "Training F1-score: 0.9817590054992464\n",
      "\n",
      "Testing Accuracy: 0.9743\n",
      "Testing Precision: 0.9743417215034662\n",
      "Testing Recall: 0.9743\n",
      "Testing F1-score: 0.9743140189370201\n",
      "\n",
      "2. Standard Deviation:\n",
      "\n",
      "Training Standard Deviation: 0.13212054608544677\n",
      "Testing Standard Deviation: 0.13614147586469483\n",
      "Difference between Training and Testing Standard Deviation: -0.004020929779248061\n",
      "\n",
      "3. Confusion Matrix:\n"
     ]
    },
    {
     "data": {
      "image/png": "[encoded data removed]",
      "text/plain": [
       "<Figure size 640x480 with 2 Axes>"
      ]
     },
     "metadata": {},
     "output_type": "display_data"
    },
    {
     "name": "stdout",
     "output_type": "stream",
     "text": [
      "4. Classification Report:\n",
      "\n",
      "              precision    recall  f1-score   support\n",
      "\n",
      "           0       0.98      0.98      0.98     12039\n",
      "           1       0.96      0.97      0.97      7961\n",
      "\n",
      "    accuracy                           0.97     20000\n",
      "   macro avg       0.97      0.97      0.97     20000\n",
      "weighted avg       0.97      0.97      0.97     20000\n",
      " \n",
      "\n",
      "5. ROC Curve & AUC Scores:\n",
      "\n"
     ]
    },
    {
     "data": {
      "image/png": "[encoded data removed]",
      "text/plain": [
       "<Figure size 640x480 with 1 Axes>"
      ]
     },
     "metadata": {},
     "output_type": "display_data"
    },
    {
     "name": "stdout",
     "output_type": "stream",
     "text": [
      "AUC Score: 1.00\n"
     ]
    }
   ],
   "source": [
    "classifier = xgb_model(X_train, X_test, y_train, y_test)\n",
    "\n",
    "# Total time taken -> 357 minutes 5.0 seconds\n",
    "\n",
    "# 0 -> No jail was given\n",
    "# 1 -> jail was given"
   ]
  },
  {
   "cell_type": "markdown",
   "metadata": {},
   "source": [
    "##### Exporting Model:"
   ]
  },
  {
   "cell_type": "code",
   "execution_count": 19,
   "metadata": {},
   "outputs": [
    {
     "data": {
      "text/plain": [
       "['xgb_model_release.joblib']"
      ]
     },
     "execution_count": 19,
     "metadata": {},
     "output_type": "execute_result"
    }
   ],
   "source": [
    "dump(classifier, 'xgb_model_release.joblib')\n",
    "#loaded_model = load('xgb_model.joblib')"
   ]
  }
 ],
 "metadata": {
  "kernelspec": {
   "display_name": "base",
   "language": "python",
   "name": "python3"
  },
  "language_info": {
   "codemirror_mode": {
    "name": "ipython",
    "version": 3
   },
   "file_extension": ".py",
   "mimetype": "text/x-python",
   "name": "python",
   "nbconvert_exporter": "python",
   "pygments_lexer": "ipython3",
   "version": "3.10.9"
  },
  "orig_nbformat": 4
 },
 "nbformat": 4,
 "nbformat_minor": 2
}
