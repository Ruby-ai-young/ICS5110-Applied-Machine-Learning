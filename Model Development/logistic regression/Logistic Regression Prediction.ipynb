{
 "cells": [
  {
   "cell_type": "code",
   "execution_count": 55,
   "id": "9c46a04b",
   "metadata": {},
   "outputs": [],
   "source": [
    "import joblib\n",
    "import pandas as pd\n",
    "import numpy as np"
   ]
  },
  {
   "cell_type": "code",
   "execution_count": 68,
   "id": "4a3aa35e",
   "metadata": {},
   "outputs": [],
   "source": [
    "#0 -> detained\n",
    "#1 -> released\n",
    "\n",
    "def predict_release(new_id, sex, race, case_type, offence_category, age_judge, prior_felony, probation, year):\n",
    "    lr_model = joblib.load('lr_lbfgs_model.joblib')\n",
    "    \n",
    "    features = np.array([[new_id, sex, race, case_type, offence_category, age_judge, \n",
    "                          prior_felony, probation, year]])\n",
    "        \n",
    "    prediction = lr_model.predict(features)\n",
    "    \n",
    "    if prediction[0] == 0:\n",
    "        print(\"This model predicts the defendant will be detained (not released)\")\n",
    "    else:\n",
    "        print(\"This model predicts the defendant will be released\")\n",
    "\n",
    "        \n",
    "#     print(prediction[0])\n",
    "    \n",
    "#     return prediction\n",
    "\n",
    "\n"
   ]
  },
  {
   "cell_type": "code",
   "execution_count": 69,
   "id": "ba37546d",
   "metadata": {},
   "outputs": [
    {
     "name": "stdout",
     "output_type": "stream",
     "text": [
      "This model predicts the defendant will be released\n"
     ]
    }
   ],
   "source": [
    "predict_release(456789, 1, 1, 0, 34, 19, 0, 0.0, 2014)"
   ]
  },
  {
   "cell_type": "code",
   "execution_count": null,
   "id": "3b154784",
   "metadata": {},
   "outputs": [],
   "source": []
  }
 ],
 "metadata": {
  "kernelspec": {
   "display_name": "Python 3 (ipykernel)",
   "language": "python",
   "name": "python3"
  },
  "language_info": {
   "codemirror_mode": {
    "name": "ipython",
    "version": 3
   },
   "file_extension": ".py",
   "mimetype": "text/x-python",
   "name": "python",
   "nbconvert_exporter": "python",
   "pygments_lexer": "ipython3",
   "version": "3.9.7"
  }
 },
 "nbformat": 4,
 "nbformat_minor": 5
}
