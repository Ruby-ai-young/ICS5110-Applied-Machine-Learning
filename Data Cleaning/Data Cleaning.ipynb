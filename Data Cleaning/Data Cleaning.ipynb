<<<<<<< HEAD
version https://git-lfs.github.com/spec/v1
oid sha256:3e188e024eed35345236937338dda045b7968585c3b9ff494d8d1a9ff21a7494
size 21290
=======
{
 "cells": [
  {
   "cell_type": "markdown",
   "id": "ce81e0ba-cad0-4f36-bd28-45d753558fe1",
   "metadata": {},
   "source": [
    "## Data Cleaning"
   ]
  },
  {
   "cell_type": "code",
   "execution_count": 1,
   "id": "4db74038-8d77-430a-a609-8e89e1b7a492",
   "metadata": {},
   "outputs": [],
   "source": [
    "# Importing needed packages\n",
    "import pandas as pd\n",
    "from sklearn.preprocessing import LabelEncoder"
   ]
  },
  {
   "cell_type": "code",
   "execution_count": 2,
   "id": "8e8368d4-0ba6-4856-8463-ee313f3e7e4c",
   "metadata": {},
   "outputs": [],
   "source": [
    "# Loading the dataset\n",
    "file_path = 'dataset.csv'\n",
    "# List of columns to keep\n",
    "columns_keep = ['county', 'new_id', 'sex', 'race', 'judge_id', 'case_type', 'wcisclass', 'age_offense', 'age_judge', 'prior_felony', 'prior_misdemeanor', 'prior_criminal_traffic', 'med_hhinc',\n",
    "                'year', 'jail', 'violent_crime', 'highest_severity', 'release', 'probation']\n",
    "# Selecting only the specified columns\n",
    "data = pd.read_csv(file_path, usecols=columns_keep)"
   ]
  },
  {
   "cell_type": "code",
   "execution_count": 3,
   "id": "0fb94909-be0d-4f31-a4f5-48872e2b3cb8",
   "metadata": {},
   "outputs": [],
   "source": [
    "# Renaming the dataset columns to make them more understanding\n",
    "data.rename(columns={'med_hhinc': 'med_house_income', 'wcisclass': 'offence_category'}, inplace=True)"
   ]
  },
  {
   "cell_type": "code",
   "execution_count": 4,
   "id": "ff40d8fe-e744-4dab-a073-aa7b86c47eec",
   "metadata": {},
   "outputs": [
    {
     "data": {
      "text/plain": [
       "county                         0\n",
       "new_id                         0\n",
       "sex                            0\n",
       "race                           0\n",
       "judge_id                       0\n",
       "case_type                      0\n",
       "offence_category            5483\n",
       "age_offense                    0\n",
       "age_judge                      0\n",
       "prior_felony                   0\n",
       "prior_misdemeanor              0\n",
       "prior_criminal_traffic         0\n",
       "highest_severity               0\n",
       "release                        0\n",
       "probation                 444647\n",
       "med_house_income               0\n",
       "year                           0\n",
       "jail                      836043\n",
       "violent_crime                  0\n",
       "dtype: int64"
      ]
     },
     "execution_count": 4,
     "metadata": {},
     "output_type": "execute_result"
    }
   ],
   "source": [
    "# Checking the sum of null data in the data set\n",
    "data.isnull().sum()"
   ]
  },
  {
   "cell_type": "code",
   "execution_count": 5,
   "id": "12700729-c71d-43df-9af1-8df86acddc0e",
   "metadata": {},
   "outputs": [],
   "source": [
    "# Dropping those with N/A in the Offence Category due to it being vital for the project\n",
    "data.dropna(subset=['offence_category'], inplace=True)\n",
    "# Filling the other collumns' that have N/A with 0\n",
    "data.fillna(0, inplace=True)"
   ]
  },
  {
   "cell_type": "code",
   "execution_count": 6,
   "id": "e73d1960-5665-4461-96f8-cb674162581a",
   "metadata": {},
   "outputs": [
    {
     "data": {
      "text/plain": [
       "county                    0\n",
       "new_id                    0\n",
       "sex                       0\n",
       "race                      0\n",
       "judge_id                  0\n",
       "case_type                 0\n",
       "offence_category          0\n",
       "age_offense               0\n",
       "age_judge                 0\n",
       "prior_felony              0\n",
       "prior_misdemeanor         0\n",
       "prior_criminal_traffic    0\n",
       "highest_severity          0\n",
       "release                   0\n",
       "probation                 0\n",
       "med_house_income          0\n",
       "year                      0\n",
       "jail                      0\n",
       "violent_crime             0\n",
       "dtype: int64"
      ]
     },
     "execution_count": 6,
     "metadata": {},
     "output_type": "execute_result"
    }
   ],
   "source": [
    "# Making sure that there are no more null data in the data set\n",
    "data.isnull().sum()"
   ]
  },
  {
   "cell_type": "code",
   "execution_count": 7,
   "id": "f6a6ebf7-6aa9-441f-ab7d-6b53a16c9d88",
   "metadata": {},
   "outputs": [
    {
     "data": {
      "text/plain": [
       "county                      int64\n",
       "new_id                      int64\n",
       "sex                        object\n",
       "race                       object\n",
       "judge_id                    int64\n",
       "case_type                  object\n",
       "offence_category           object\n",
       "age_offense                 int64\n",
       "age_judge                   int64\n",
       "prior_felony                int64\n",
       "prior_misdemeanor           int64\n",
       "prior_criminal_traffic      int64\n",
       "highest_severity          float64\n",
       "release                     int64\n",
       "probation                 float64\n",
       "med_house_income          float64\n",
       "year                        int64\n",
       "jail                      float64\n",
       "violent_crime               int64\n",
       "dtype: object"
      ]
     },
     "execution_count": 7,
     "metadata": {},
     "output_type": "execute_result"
    }
   ],
   "source": [
    "# Checking the data types\n",
    "data.dtypes"
   ]
  },
  {
   "cell_type": "code",
   "execution_count": 8,
   "id": "3c9eeb2e-7b6a-4f0a-88cd-b5e1187c02e1",
   "metadata": {},
   "outputs": [
    {
     "data": {
      "text/plain": [
       "offence_category\n",
       "OAR/OAS                             167104\n",
       "Operating While Intoxicated         166940\n",
       "Drug Possession                     132357\n",
       "Bail Jumping                        108458\n",
       "Battery                             107245\n",
       "                                     ...  \n",
       "Local or Unidentified Forfeiture         6\n",
       "Extradition                              4\n",
       "Unidentified Traffic Forfeiture          2\n",
       "Fleeing/Eluding                          1\n",
       "Violate Occupational                     1\n",
       "Name: count, Length: 66, dtype: int64"
      ]
     },
     "execution_count": 8,
     "metadata": {},
     "output_type": "execute_result"
    }
   ],
   "source": [
    "data['offence_category'].value_counts()"
   ]
  },
  {
   "cell_type": "code",
   "execution_count": 9,
   "id": "e0bd7af1-5930-4ed4-bda8-eb712c213c3a",
   "metadata": {},
   "outputs": [
    {
     "data": {
      "text/plain": [
       "case_type\n",
       "Misdemeanor         633573\n",
       "Felony              473694\n",
       "Criminal Traffic    364217\n",
       "Name: count, dtype: int64"
      ]
     },
     "execution_count": 9,
     "metadata": {},
     "output_type": "execute_result"
    }
   ],
   "source": [
    "data['case_type'].value_counts()"
   ]
  },
  {
   "cell_type": "code",
   "execution_count": 10,
   "id": "c4df5403-d6e9-4b3b-a82d-b27b812c851d",
   "metadata": {},
   "outputs": [
    {
     "data": {
      "text/plain": [
       "race\n",
       "Caucasian                            960233\n",
       "African American                     332634\n",
       "Hispanic                             101356\n",
       "American Indian or Alaskan Native     63747\n",
       "Asian or Pacific Islander             13514\n",
       "Name: count, dtype: int64"
      ]
     },
     "execution_count": 10,
     "metadata": {},
     "output_type": "execute_result"
    }
   ],
   "source": [
    "data['race'].value_counts()"
   ]
  },
  {
   "cell_type": "code",
   "execution_count": 11,
   "id": "cb49bc50-94b0-4565-9adb-71208e2cf298",
   "metadata": {},
   "outputs": [
    {
     "data": {
      "text/plain": [
       "sex\n",
       "M    1182739\n",
       "F     288745\n",
       "Name: count, dtype: int64"
      ]
     },
     "execution_count": 11,
     "metadata": {},
     "output_type": "execute_result"
    }
   ],
   "source": [
    "data['sex'].value_counts()"
   ]
  },
  {
   "cell_type": "code",
   "execution_count": 12,
   "id": "4c1a06c2-ff31-44f4-bdea-6d8a4ab465de",
   "metadata": {},
   "outputs": [],
   "source": [
    "# Encoding\n",
    "label_encoder = LabelEncoder()"
   ]
  },
  {
   "cell_type": "code",
   "execution_count": 13,
   "id": "c5ed908b-96a7-4bc0-ad87-96ddc38dffec",
   "metadata": {},
   "outputs": [
    {
     "name": "stdout",
     "output_type": "stream",
     "text": [
      "Mapping for 'offence_category': {'1st Deg. Sex. Assault of Child': 0, '2nd Deg. Sex. Assault of Child': 1, 'Armed Robbery': 2, 'Arson': 3, 'BAC': 4, 'Bail Jumping': 5, 'Battery': 6, 'Burglary': 7, 'Child Abuse': 8, 'Contempt of Court': 9, 'Crimes Against Children': 10, 'Criminal Damage': 11, 'Criminal Trespass': 12, 'Disorderly Conduct': 13, 'Drug Manufacture/Deliver': 14, 'Drug Paraphernalia': 15, 'Drug Possession': 16, 'Entering Locked Vehicle': 17, 'Escape': 18, 'Extradition': 19, 'First Degree Intentional Homicide': 20, 'First Degree Reckless Homicide': 21, 'Fleeing/Eluding': 22, 'Forgery': 23, 'Fourth Degree Sexual Assau': 24, 'Gambling': 25, 'Hit and Run': 26, 'Intimidate Witness/Victim': 27, 'Kidnap/Hostage/False Imprisonment': 28, 'Local or Unidentified Forfeiture': 29, 'Non-Traffic Forfeiture': 30, 'OAR/OAS': 31, 'Operate Vehicle Without Consent': 32, 'Operate Vehicle w/out Consent': 33, 'Operate Without License': 34, 'Operating While Intoxicated': 35, 'Operating while intoxicated': 36, 'Other Bodily Security': 37, 'Other Crimes Against Children': 38, 'Other Drug Offenses': 39, 'Other Felony': 40, 'Other Fraud': 41, 'Other Homicide': 42, 'Other Misdemeanor': 43, 'Other Public Safety Crimes': 44, 'Perjury': 45, 'Public Assistance Fraud': 46, 'Receiving Stolen Property': 47, 'Reckless Driving': 48, 'Resisting Officer': 49, 'Retail Theft (Shoplifting)': 50, 'Sex Crimes': 51, 'Sexual Assault': 52, 'Stalking': 53, 'Substantial/Aggravated Battery': 54, 'Theft': 55, 'Unarmed Robbery': 56, 'Unidentified Felony': 57, 'Unidentified Felony Traffic': 58, 'Unidentified Misdemeanor': 59, 'Unidentified Misdemeanor Traffic': 60, 'Unidentified Traffic Forfeiture': 61, 'Violate Occupational': 62, 'Violation of TRO': 63, 'Weapons/Explosives': 64, 'Worthless Checks': 65}\n"
     ]
    }
   ],
   "source": [
    "data['offence_category'] = label_encoder.fit_transform(data['offence_category'])\n",
    "print(f\"Mapping for '{'offence_category'}': {dict(zip(label_encoder.classes_, label_encoder.transform(label_encoder.classes_)))}\")"
   ]
  },
  {
   "cell_type": "code",
   "execution_count": 14,
   "id": "ccda12b5-c0a8-49d4-8460-30984eb2e622",
   "metadata": {},
   "outputs": [
    {
     "name": "stdout",
     "output_type": "stream",
     "text": [
      "Mapping for 'case_type': {'Criminal Traffic': 0, 'Felony': 1, 'Misdemeanor': 2}\n"
     ]
    }
   ],
   "source": [
    "data['case_type'] = label_encoder.fit_transform(data['case_type'])\n",
    "print(f\"Mapping for '{'case_type'}': {dict(zip(label_encoder.classes_, label_encoder.transform(label_encoder.classes_)))}\")"
   ]
  },
  {
   "cell_type": "code",
   "execution_count": 15,
   "id": "c591a068-bbfe-467a-b6c2-447ee89485d0",
   "metadata": {},
   "outputs": [
    {
     "name": "stdout",
     "output_type": "stream",
     "text": [
      "Mapping for 'sex': {'F': 0, 'M': 1}\n"
     ]
    }
   ],
   "source": [
    "data['sex'] = label_encoder.fit_transform(data['sex'])\n",
    "print(f\"Mapping for '{'sex'}': {dict(zip(label_encoder.classes_, label_encoder.transform(label_encoder.classes_)))}\")"
   ]
  },
  {
   "cell_type": "code",
   "execution_count": 16,
   "id": "7d59e7f8-fd87-47ae-b93e-7fa70a96e537",
   "metadata": {},
   "outputs": [
    {
     "name": "stdout",
     "output_type": "stream",
     "text": [
      "Mapping for 'race': {'African American': 0, 'American Indian or Alaskan Native': 1, 'Asian or Pacific Islander': 2, 'Caucasian': 3, 'Hispanic': 4}\n"
     ]
    }
   ],
   "source": [
    "data['race'] = label_encoder.fit_transform(data['race'])\n",
    "print(f\"Mapping for '{'race'}': {dict(zip(label_encoder.classes_, label_encoder.transform(label_encoder.classes_)))}\")"
   ]
  },
  {
   "cell_type": "code",
   "execution_count": 17,
   "id": "da9cfdf1-ad4c-42e2-8ab1-414a5c02a003",
   "metadata": {},
   "outputs": [
    {
     "data": {
      "text/plain": [
       "county                      int64\n",
       "new_id                      int64\n",
       "sex                         int32\n",
       "race                        int32\n",
       "judge_id                    int64\n",
       "case_type                   int32\n",
       "offence_category            int32\n",
       "age_offense                 int64\n",
       "age_judge                   int64\n",
       "prior_felony                int64\n",
       "prior_misdemeanor           int64\n",
       "prior_criminal_traffic      int64\n",
       "highest_severity          float64\n",
       "release                     int64\n",
       "probation                 float64\n",
       "med_house_income          float64\n",
       "year                        int64\n",
       "jail                      float64\n",
       "violent_crime               int64\n",
       "dtype: object"
      ]
     },
     "execution_count": 17,
     "metadata": {},
     "output_type": "execute_result"
    }
   ],
   "source": [
    "data.dtypes"
   ]
  },
  {
   "cell_type": "code",
   "execution_count": 18,
   "id": "95e79203-fee6-418c-ae67-fafd3d0e2c77",
   "metadata": {},
   "outputs": [
    {
     "data": {
      "text/html": [
       "<div>\n",
       "<style scoped>\n",
       "    .dataframe tbody tr th:only-of-type {\n",
       "        vertical-align: middle;\n",
       "    }\n",
       "\n",
       "    .dataframe tbody tr th {\n",
       "        vertical-align: top;\n",
       "    }\n",
       "\n",
       "    .dataframe thead th {\n",
       "        text-align: right;\n",
       "    }\n",
       "</style>\n",
       "<table border=\"1\" class=\"dataframe\">\n",
       "  <thead>\n",
       "    <tr style=\"text-align: right;\">\n",
       "      <th></th>\n",
       "      <th>county</th>\n",
       "      <th>new_id</th>\n",
       "      <th>sex</th>\n",
       "      <th>race</th>\n",
       "      <th>judge_id</th>\n",
       "      <th>case_type</th>\n",
       "      <th>offence_category</th>\n",
       "      <th>age_offense</th>\n",
       "      <th>age_judge</th>\n",
       "      <th>prior_felony</th>\n",
       "      <th>prior_misdemeanor</th>\n",
       "      <th>prior_criminal_traffic</th>\n",
       "      <th>highest_severity</th>\n",
       "      <th>release</th>\n",
       "      <th>probation</th>\n",
       "      <th>med_house_income</th>\n",
       "      <th>year</th>\n",
       "      <th>jail</th>\n",
       "      <th>violent_crime</th>\n",
       "    </tr>\n",
       "  </thead>\n",
       "  <tbody>\n",
       "    <tr>\n",
       "      <th>0</th>\n",
       "      <td>40</td>\n",
       "      <td>3</td>\n",
       "      <td>1</td>\n",
       "      <td>0</td>\n",
       "      <td>436</td>\n",
       "      <td>1</td>\n",
       "      <td>16</td>\n",
       "      <td>40</td>\n",
       "      <td>41</td>\n",
       "      <td>0</td>\n",
       "      <td>0</td>\n",
       "      <td>0</td>\n",
       "      <td>7.0</td>\n",
       "      <td>1</td>\n",
       "      <td>0.0</td>\n",
       "      <td>34942.0</td>\n",
       "      <td>2012</td>\n",
       "      <td>9.0</td>\n",
       "      <td>0</td>\n",
       "    </tr>\n",
       "    <tr>\n",
       "      <th>1</th>\n",
       "      <td>30</td>\n",
       "      <td>6</td>\n",
       "      <td>1</td>\n",
       "      <td>3</td>\n",
       "      <td>1049</td>\n",
       "      <td>2</td>\n",
       "      <td>13</td>\n",
       "      <td>39</td>\n",
       "      <td>40</td>\n",
       "      <td>0</td>\n",
       "      <td>0</td>\n",
       "      <td>0</td>\n",
       "      <td>9.0</td>\n",
       "      <td>1</td>\n",
       "      <td>1.0</td>\n",
       "      <td>67610.0</td>\n",
       "      <td>2000</td>\n",
       "      <td>0.0</td>\n",
       "      <td>0</td>\n",
       "    </tr>\n",
       "    <tr>\n",
       "      <th>2</th>\n",
       "      <td>30</td>\n",
       "      <td>7</td>\n",
       "      <td>1</td>\n",
       "      <td>0</td>\n",
       "      <td>1009</td>\n",
       "      <td>2</td>\n",
       "      <td>49</td>\n",
       "      <td>17</td>\n",
       "      <td>17</td>\n",
       "      <td>0</td>\n",
       "      <td>0</td>\n",
       "      <td>0</td>\n",
       "      <td>9.0</td>\n",
       "      <td>1</td>\n",
       "      <td>1.0</td>\n",
       "      <td>45428.0</td>\n",
       "      <td>2000</td>\n",
       "      <td>0.0</td>\n",
       "      <td>0</td>\n",
       "    </tr>\n",
       "    <tr>\n",
       "      <th>3</th>\n",
       "      <td>30</td>\n",
       "      <td>12</td>\n",
       "      <td>1</td>\n",
       "      <td>3</td>\n",
       "      <td>232</td>\n",
       "      <td>0</td>\n",
       "      <td>35</td>\n",
       "      <td>65</td>\n",
       "      <td>65</td>\n",
       "      <td>0</td>\n",
       "      <td>0</td>\n",
       "      <td>0</td>\n",
       "      <td>7.0</td>\n",
       "      <td>0</td>\n",
       "      <td>0.0</td>\n",
       "      <td>45428.0</td>\n",
       "      <td>2000</td>\n",
       "      <td>20.0</td>\n",
       "      <td>0</td>\n",
       "    </tr>\n",
       "    <tr>\n",
       "      <th>4</th>\n",
       "      <td>40</td>\n",
       "      <td>17</td>\n",
       "      <td>1</td>\n",
       "      <td>0</td>\n",
       "      <td>694</td>\n",
       "      <td>0</td>\n",
       "      <td>31</td>\n",
       "      <td>51</td>\n",
       "      <td>51</td>\n",
       "      <td>1</td>\n",
       "      <td>0</td>\n",
       "      <td>0</td>\n",
       "      <td>7.0</td>\n",
       "      <td>1</td>\n",
       "      <td>0.0</td>\n",
       "      <td>22838.0</td>\n",
       "      <td>2001</td>\n",
       "      <td>0.0</td>\n",
       "      <td>0</td>\n",
       "    </tr>\n",
       "  </tbody>\n",
       "</table>\n",
       "</div>"
      ],
      "text/plain": [
       "   county  new_id  sex  race  judge_id  case_type  offence_category  \\\n",
       "0      40       3    1     0       436          1                16   \n",
       "1      30       6    1     3      1049          2                13   \n",
       "2      30       7    1     0      1009          2                49   \n",
       "3      30      12    1     3       232          0                35   \n",
       "4      40      17    1     0       694          0                31   \n",
       "\n",
       "   age_offense  age_judge  prior_felony  prior_misdemeanor  \\\n",
       "0           40         41             0                  0   \n",
       "1           39         40             0                  0   \n",
       "2           17         17             0                  0   \n",
       "3           65         65             0                  0   \n",
       "4           51         51             1                  0   \n",
       "\n",
       "   prior_criminal_traffic  highest_severity  release  probation  \\\n",
       "0                       0               7.0        1        0.0   \n",
       "1                       0               9.0        1        1.0   \n",
       "2                       0               9.0        1        1.0   \n",
       "3                       0               7.0        0        0.0   \n",
       "4                       0               7.0        1        0.0   \n",
       "\n",
       "   med_house_income  year  jail  violent_crime  \n",
       "0           34942.0  2012   9.0              0  \n",
       "1           67610.0  2000   0.0              0  \n",
       "2           45428.0  2000   0.0              0  \n",
       "3           45428.0  2000  20.0              0  \n",
       "4           22838.0  2001   0.0              0  "
      ]
     },
     "execution_count": 18,
     "metadata": {},
     "output_type": "execute_result"
    }
   ],
   "source": [
    "data.head()"
   ]
  },
  {
   "cell_type": "code",
   "execution_count": 19,
   "id": "03bd804c-6fa8-4a42-8fcf-b6b0e2856c53",
   "metadata": {},
   "outputs": [],
   "source": [
    "# Saving the new file\n",
    "new_file_name = 'modified_dataset.csv'\n",
    "data.to_csv(new_file_name, index=False)"
   ]
  }
 ],
 "metadata": {
  "kernelspec": {
   "display_name": "Python 3 (ipykernel)",
   "language": "python",
   "name": "python3"
  },
  "language_info": {
   "codemirror_mode": {
    "name": "ipython",
    "version": 3
   },
   "file_extension": ".py",
   "mimetype": "text/x-python",
   "name": "python",
   "nbconvert_exporter": "python",
   "pygments_lexer": "ipython3",
   "version": "3.12.0"
  }
 },
 "nbformat": 4,
 "nbformat_minor": 5
}
>>>>>>> c7b9614 (Committing Data Cleaning, Data Selection & Random Forest Model)
