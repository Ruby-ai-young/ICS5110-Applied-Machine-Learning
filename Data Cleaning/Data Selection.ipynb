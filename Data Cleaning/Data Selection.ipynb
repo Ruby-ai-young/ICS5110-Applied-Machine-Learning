{
 "cells": [
  {
   "cell_type": "markdown",
   "id": "9e7ef1d1-af29-4eb4-8a70-6c16b5bace50",
   "metadata": {},
   "source": [
    "## Data Selection"
   ]
  },
  {
   "cell_type": "code",
   "execution_count": 1,
   "id": "175559a0-a38a-4fb6-a194-5bea162f1a48",
   "metadata": {},
   "outputs": [],
   "source": [
    "# Importing needed packages\n",
    "import pandas as pd"
   ]
  },
  {
   "cell_type": "code",
   "execution_count": 2,
   "id": "9e0c5cdd-b88c-4a5d-b2f0-a7e35e790c1d",
   "metadata": {},
   "outputs": [],
   "source": [
    "# Loading the dataset\n",
    "file_path = 'modified_dataset.csv'\n",
    "data = pd.read_csv(file_path)"
   ]
  },
  {
   "cell_type": "code",
   "execution_count": 3,
   "id": "0904efc8-e848-4a65-a5b2-9984ae66cf9b",
   "metadata": {},
   "outputs": [],
   "source": [
    "# Randomly sampling 300,000 rows\n",
    "sampled_data = data.sample(n=100000)"
   ]
  },
  {
   "cell_type": "code",
   "execution_count": 4,
   "id": "7ea9ed07-2a86-4d4b-a101-e2d6ee8ed5d2",
   "metadata": {},
   "outputs": [],
   "source": [
    "# Saving the new csv\n",
    "sampled_data.to_csv('sampled_file_100k.csv', index=False)"
   ]
  }
 ],
 "metadata": {
  "kernelspec": {
   "display_name": "Python 3 (ipykernel)",
   "language": "python",
   "name": "python3"
  },
  "language_info": {
   "codemirror_mode": {
    "name": "ipython",
    "version": 3
   },
   "file_extension": ".py",
   "mimetype": "text/x-python",
   "name": "python",
   "nbconvert_exporter": "python",
   "pygments_lexer": "ipython3",
   "version": "3.12.0"
  }
 },
 "nbformat": 4,
 "nbformat_minor": 5
}
